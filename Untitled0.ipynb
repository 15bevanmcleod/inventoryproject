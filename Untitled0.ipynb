{
  "nbformat": 4,
  "nbformat_minor": 0,
  "metadata": {
    "colab": {
      "name": "Untitled0.ipynb",
      "provenance": [],
      "collapsed_sections": []
    },
    "kernelspec": {
      "name": "python3",
      "display_name": "Python 3"
    },
    "language_info": {
      "name": "python"
    }
  },
  "cells": [
    {
      "cell_type": "code",
      "metadata": {
        "id": "EzJpwhchMpGE"
      },
      "source": [
        "import json\n",
        "\n",
        "fd = open(\"Inventory.json\",'r')\n",
        "r = fd.read()\n",
        "fd.close()\n",
        "\n",
        "Inventory = json.loads(r)"
      ],
      "execution_count": 22,
      "outputs": []
    },
    {
      "cell_type": "markdown",
      "metadata": {
        "id": "xa3Jb2JjNVu-"
      },
      "source": [
        "# New Section"
      ]
    },
    {
      "cell_type": "code",
      "metadata": {
        "colab": {
          "base_uri": "https://localhost:8080/"
        },
        "id": "NEtseUOSNlhM",
        "outputId": "9f92ae86-76b2-4135-a8d3-e31ce11af52d"
      },
      "source": [
        "Inventory"
      ],
      "execution_count": 21,
      "outputs": [
        {
          "output_type": "execute_result",
          "data": {
            "text/plain": [
              "{'1001': {'brand': 'Britania',\n",
              "  'expiry': '01-12-2022',\n",
              "  'name': 'Nutri choice',\n",
              "  'price': 20,\n",
              "  'quantity': 20},\n",
              " '1002': {'brand': 'Britania',\n",
              "  'expiry': '12-12-2022',\n",
              "  'name': 'maska chaska',\n",
              "  'price': 30,\n",
              "  'quantity': 4},\n",
              " '1003': {'brand': 'sunfeast',\n",
              "  'expiry': '13-12-2022',\n",
              "  'name': 'yipiee',\n",
              "  'price': 20,\n",
              "  'quantity': 40},\n",
              " '1004': {'brand': 'siddiqui eatables',\n",
              "  'expiry': '22-12-2022',\n",
              "  'name': 'hakka noodle',\n",
              "  'price': 40,\n",
              "  'quantity': 100},\n",
              " '1005': {'brand': 'haldiram',\n",
              "  'expiry': '21-12-2022',\n",
              "  'name': 'taka tak',\n",
              "  'price': 10,\n",
              "  'quantity': 30},\n",
              " '1006': {'brand': 'kurkure',\n",
              "  'expiry': '12-12-2022',\n",
              "  'name': 'soild mastii',\n",
              "  'price': 5,\n",
              "  'quantity': 40},\n",
              " '1007': {'brand': 'kurkure',\n",
              "  'expiry': '17-12-2022',\n",
              "  'name': 'kurkure',\n",
              "  'price': 20,\n",
              "  'quantity': 20},\n",
              " '1008': {'brand': 'lays',\n",
              "  'expiry': '27-12-2022',\n",
              "  'name': 'cream and onion',\n",
              "  'price': 5,\n",
              "  'quantity': 30},\n",
              " '1009': {'brand': 'nestle',\n",
              "  'expiry': '23-12-2022',\n",
              "  'name': 'kitkat',\n",
              "  'price': 10,\n",
              "  'quantity': 20},\n",
              " '1010': {'brand': 'lays',\n",
              "  'expiry': '23-12-2022',\n",
              "  'name': 'lays',\n",
              "  'price': 20,\n",
              "  'quantity': 25},\n",
              " '1011': {'brand': 'parle',\n",
              "  'expiry': '28-12-2022',\n",
              "  'name': 'Parle g',\n",
              "  'price': 5,\n",
              "  'quantity': 30},\n",
              " '1012': {'brand': 'calvin klien',\n",
              "  'expiry': '14-12-2022',\n",
              "  'name': 'smoodh',\n",
              "  'price': 20,\n",
              "  'quantity': 40},\n",
              " '1013': {'brand': 'amul',\n",
              "  'expiry': '18-12-2022',\n",
              "  'name': 'chips',\n",
              "  'price': 15,\n",
              "  'quantity': 18},\n",
              " '1014': {'brand': 'dinshaw',\n",
              "  'expiry': '27-12-2022',\n",
              "  'name': 'milk',\n",
              "  'price': 25,\n",
              "  'quantity': 10},\n",
              " '1015': {'brand': 'sprite',\n",
              "  'expiry': '14-12-2022',\n",
              "  'name': '7up',\n",
              "  'price': 40,\n",
              "  'quantity': 8},\n",
              " '1016': {'brand': 'aam saat',\n",
              "  'expiry': '27-12-2022',\n",
              "  'name': 'mazza',\n",
              "  'price': 40,\n",
              "  'quantity': 7},\n",
              " '1017': {'brand': 'sprite',\n",
              "  'expiry': '15-12-2022',\n",
              "  'name': 'tomatoes',\n",
              "  'price': 60,\n",
              "  'quantity': 3},\n",
              " '1018': {'brand': 'ronaldo',\n",
              "  'expiry': '31-12-2022',\n",
              "  'name': 'bisleri',\n",
              "  'price': 40,\n",
              "  'quantity': 9},\n",
              " '1019': {'brand': 'cadberry',\n",
              "  'expiry': '11-12-2022',\n",
              "  'name': 'dairy milk',\n",
              "  'price': 30,\n",
              "  'quantity': 12},\n",
              " '1020': {'brand': 'taj',\n",
              "  'expiry': '18-12-2022',\n",
              "  'name': '5 star',\n",
              "  'price': 15,\n",
              "  'quantity': 12},\n",
              " '1021': {'brand': 'frooti',\n",
              "  'expiry': '19-12-2022',\n",
              "  'name': 'frooti',\n",
              "  'price': 10,\n",
              "  'quantity': 16},\n",
              " '1022': {'brand': 'itc',\n",
              "  'expiry': '29-12-2022',\n",
              "  'name': 'zandu balm',\n",
              "  'price': 25,\n",
              "  'quantity': 100},\n",
              " '1023': {'brand': 'zylo',\n",
              "  'expiry': '31-12-2022',\n",
              "  'name': 'mango pickle',\n",
              "  'price': 20,\n",
              "  'quantity': 5},\n",
              " '1024': {'brand': 'candy',\n",
              "  'expiry': '13-12-2022',\n",
              "  'name': 'candyman',\n",
              "  'price': 2,\n",
              "  'quantity': 100},\n",
              " '1025': {'brand': 'sunfest',\n",
              "  'expiry': '23-12-2022',\n",
              "  'name': 'cake bite',\n",
              "  'price': 10,\n",
              "  'quantity': 12},\n",
              " '1026': {'brand': 'britania',\n",
              "  'expiry': '18-12-2022',\n",
              "  'name': 'mango bite',\n",
              "  'price': 30,\n",
              "  'quantity': 8},\n",
              " '1027': {'brand': 'cadberry',\n",
              "  'expiry': '17-12-2022',\n",
              "  'name': 'ice cream',\n",
              "  'price': 5,\n",
              "  'quantity': 10},\n",
              " '1028': {'brand': 'tata gold',\n",
              "  'expiry': '11-12-2022',\n",
              "  'name': 'tea',\n",
              "  'price': 10,\n",
              "  'quantity': 18},\n",
              " '1029': {'brand': 'dinshaw',\n",
              "  'expiry': '12-12-2022',\n",
              "  'name': '3 in 1',\n",
              "  'price': 10,\n",
              "  'quantity': 40},\n",
              " '1030': {'brand': 'rathi',\n",
              "  'expiry': '11-12-2022',\n",
              "  'name': 'soanroll',\n",
              "  'price': 30,\n",
              "  'quantity': 4},\n",
              " '1031': {'brand': 'toast',\n",
              "  'expiry': '22-12-2021',\n",
              "  'name': 'mussori',\n",
              "  'price': '20',\n",
              "  'quantity': '12'}}"
            ]
          },
          "metadata": {},
          "execution_count": 21
        }
      ]
    },
    {
      "cell_type": "code",
      "metadata": {
        "colab": {
          "base_uri": "https://localhost:8080/"
        },
        "id": "9ihDfxSSN7-d",
        "outputId": "fc3fa546-621d-4f81-cd4e-969ae60cc426"
      },
      "source": [
        "ui_prod  = str(input(\"Enter the product_Id: \"))\n",
        "ui_quant = int(input(\"Enter the quantity: \"))\n",
        "\n",
        "\n",
        "print(\"Product: \", Inventory[ui_prod]['name'])\n",
        "print(\"Price: \", Inventory[ui_prod]['price'])\n",
        "print(\"Billing Amount: \", Inventory[ui_prod]['price'] * ui_quant)\n",
        "\n",
        "Inventory[ui_prod]['quantity'] = Inventory[ui_prod]['quantity'] - ui_quant"
      ],
      "execution_count": 13,
      "outputs": [
        {
          "output_type": "stream",
          "name": "stdout",
          "text": [
            "Enter the product_Id: 1028\n",
            "Enter the quantity: 2\n",
            "Product:  tea\n",
            "Price:  10\n",
            "Billing Amount:  20\n"
          ]
        }
      ]
    },
    {
      "cell_type": "code",
      "metadata": {
        "id": "LokV7_wqPdxV"
      },
      "source": [
        "js = json.dumps(Inventory)\n",
        "\n",
        "fd = open(\"Inventory.json\",'w')\n",
        "fd.write(js)\n",
        "fd.close()"
      ],
      "execution_count": 14,
      "outputs": []
    },
    {
      "cell_type": "code",
      "metadata": {
        "colab": {
          "base_uri": "https://localhost:8080/"
        },
        "id": "AAuhNWBFPyJ0",
        "outputId": "cee059b8-08c9-4979-c0c3-26a511f7dbab"
      },
      "source": [
        "{'prod' : ui_prod, 'quantity' : ui_quant, 'amount': Inventory[ui_prod]['price'] * ui_quant}"
      ],
      "execution_count": 16,
      "outputs": [
        {
          "output_type": "execute_result",
          "data": {
            "text/plain": [
              "{'amount': 20, 'prod': '1028', 'quantity': 2}"
            ]
          },
          "metadata": {},
          "execution_count": 16
        }
      ]
    },
    {
      "cell_type": "code",
      "metadata": {
        "id": "-uk8Zlm4Q76P"
      },
      "source": [
        ""
      ],
      "execution_count": null,
      "outputs": []
    },
    {
      "cell_type": "code",
      "metadata": {
        "id": "6cb6WXqxQiYd"
      },
      "source": [
        "sales = {1 : {'prod' : ui_prod, 'quantity' : ui_quant, 'amount': Inventory[ui_prod]['price'] * ui_quant},\n",
        "         2 : {'prod' : ui_prod, 'quantity' : ui_quant, 'amount': Inventory[ui_prod]['price'] * ui_quant},\n",
        "         3 : {'prod' : ui_prod, 'quantity' : ui_quant, 'amount': Inventory[ui_prod]['price'] * ui_quant}}"
      ],
      "execution_count": 19,
      "outputs": []
    },
    {
      "cell_type": "code",
      "metadata": {
        "id": "HPLLTEpWRI18"
      },
      "source": [
        "sale = json.dumps(sales)"
      ],
      "execution_count": 20,
      "outputs": []
    }
  ]
}